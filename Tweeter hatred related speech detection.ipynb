{
 "cells": [
  {
   "cell_type": "code",
   "execution_count": 12,
   "id": "338ab3c7",
   "metadata": {},
   "outputs": [],
   "source": [
    "import pandas as pd"
   ]
  },
  {
   "cell_type": "code",
   "execution_count": 13,
   "id": "7e68533e",
   "metadata": {},
   "outputs": [
    {
     "name": "stdout",
     "output_type": "stream",
     "text": [
      "training set: (31962, 3) 31962\n"
     ]
    }
   ],
   "source": [
    "train = pd.read_csv('train_tweets.csv')\n",
    "print(\"training set:\"%train.columns,train.shape,len(train))"
   ]
  },
  {
   "cell_type": "code",
   "execution_count": 14,
   "id": "e3109743",
   "metadata": {},
   "outputs": [
    {
     "name": "stdout",
     "output_type": "stream",
     "text": [
      "test set: (17197, 2) 17197\n"
     ]
    }
   ],
   "source": [
    "test = pd.read_csv('test_tweets.csv')\n",
    "print(\"test set:\"%test.columns,test.shape,len(test))"
   ]
  },
  {
   "cell_type": "code",
   "execution_count": 15,
   "id": "3f86e75d",
   "metadata": {},
   "outputs": [],
   "source": [
    "import re\n",
    "def clean_text(df,text_field):\n",
    "    df[text_field]=df[text_field].str.lower()\n",
    "    df[text_field]=df[text_field].apply(lambda elem:re.sub(r\"(@[A-Za-z0-9]+)|([^0-9A-Za-z \\t])|(\\w+:\\/\\/\\S+)|^rt|http.+?\",\"\",elem))\n",
    "    return df"
   ]
  },
  {
   "cell_type": "code",
   "execution_count": 16,
   "id": "d728228c",
   "metadata": {},
   "outputs": [],
   "source": [
    "test_clean=clean_text(test,\"tweet\")\n",
    "train_clean=clean_text(train,\"tweet\")"
   ]
  },
  {
   "cell_type": "code",
   "execution_count": 17,
   "id": "a359e772",
   "metadata": {},
   "outputs": [
    {
     "data": {
      "text/plain": [
       "label\n",
       "0    2242\n",
       "1    2242\n",
       "Name: count, dtype: int64"
      ]
     },
     "execution_count": 17,
     "metadata": {},
     "output_type": "execute_result"
    }
   ],
   "source": [
    "from sklearn.utils import resample\n",
    "train_minority = train_clean[train_clean.label==0]\n",
    "train_majority = train_clean[train_clean.label==1]\n",
    "\n",
    "train_minority_upsampled = resample(train_minority,replace=True,n_samples=len(train_majority),random_state=123)\n",
    "train_upsampled = pd.concat([train_minority_upsampled,train_majority])\n",
    "train_upsampled['label'].value_counts()"
   ]
  },
  {
   "cell_type": "code",
   "execution_count": 18,
   "id": "bc3d3e91",
   "metadata": {},
   "outputs": [],
   "source": [
    "from sklearn.feature_extraction.text import TfidfVectorizer\n",
    "from sklearn.pipeline import Pipeline\n",
    "from sklearn.feature_extraction.text import CountVectorizer,TfidfTransformer\n",
    "from sklearn.linear_model import SGDClassifier\n",
    "pipeline_sgd=Pipeline([('vect',CountVectorizer()),\n",
    "                      ('tfidf',TfidfTransformer()),\n",
    "                      ('nb',SGDClassifier()),])"
   ]
  },
  {
   "cell_type": "code",
   "execution_count": 19,
   "id": "b13b5ed9",
   "metadata": {},
   "outputs": [],
   "source": [
    "from sklearn.model_selection import train_test_split\n",
    "X_train,X_test,y_train, y_test = train_test_split(train_upsampled['tweet'],train_upsampled['label'],random_state=0)"
   ]
  },
  {
   "cell_type": "code",
   "execution_count": 20,
   "id": "606a84ca",
   "metadata": {},
   "outputs": [],
   "source": [
    "model = pipeline_sgd.fit(X_train,y_train)"
   ]
  },
  {
   "cell_type": "code",
   "execution_count": 21,
   "id": "6a44cc9d",
   "metadata": {},
   "outputs": [],
   "source": [
    "y_predict = model.predict(X_test)"
   ]
  },
  {
   "cell_type": "code",
   "execution_count": 22,
   "id": "23228ecd",
   "metadata": {},
   "outputs": [
    {
     "data": {
      "text/plain": [
       "0.8558558558558559"
      ]
     },
     "execution_count": 22,
     "metadata": {},
     "output_type": "execute_result"
    }
   ],
   "source": [
    "from sklearn.metrics import f1_score\n",
    "f1_score(y_test,y_predict)"
   ]
  },
  {
   "cell_type": "code",
   "execution_count": null,
   "id": "21851da3",
   "metadata": {},
   "outputs": [],
   "source": []
  }
 ],
 "metadata": {
  "kernelspec": {
   "display_name": "Python 3 (ipykernel)",
   "language": "python",
   "name": "python3"
  },
  "language_info": {
   "codemirror_mode": {
    "name": "ipython",
    "version": 3
   },
   "file_extension": ".py",
   "mimetype": "text/x-python",
   "name": "python",
   "nbconvert_exporter": "python",
   "pygments_lexer": "ipython3",
   "version": "3.12.2"
  }
 },
 "nbformat": 4,
 "nbformat_minor": 5
}
